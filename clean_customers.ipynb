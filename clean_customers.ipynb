{
 "cells": [
  {
   "cell_type": "code",
   "execution_count": 2,
   "id": "initial_id",
   "metadata": {
    "collapsed": true,
    "ExecuteTime": {
     "end_time": "2024-03-07T04:21:42.580093600Z",
     "start_time": "2024-03-07T04:21:42.555011500Z"
    }
   },
   "outputs": [
    {
     "name": "stdout",
     "output_type": "stream",
     "text": [
      "    Index      Customer Id First Name    Last Name                          Company                 City                                       Country       Phone 1\n",
      "0       1  DD37Cf93aecA6Dc     Sheryl       Baxter                  Rasmussen Group         East Leonard                                         Chile  229-077-5154\n",
      "1       2  1Ef7b82A4CAAD10    Preston       Lozano                      Vega-Gentry    East Jimmychester                                      Djibouti  515-343-5776\n",
      "2       3  6F94879bDAfE5a6        Roy        Berry                    Murillo-Perry        Isabelborough                           Antigua and Barbuda  153-940-2025\n",
      "3       4  5Cef8BFA16c5e3c      Linda        Olsen  Dominguez, Mcmillan and Donovan           Bensonview                            Dominican Republic  001-808-6176\n",
      "4       5  053d585Ab6b3159     Joanna       Bender         Martin, Lang and Andrade       West Priscilla                    Slovakia (Slovak Republic)  001-234-2030\n",
      "5       6  2d08FB17EE273F4      Aimee        Downs                     Steele Group        Chavezborough                        Bosnia and Herzegovina  283-437-3886\n",
      "6       7  EA4d384DfDbBf77     Darren         Peck     Lester, Woodard and Mitchell             Lake Ana                              Pitcairn Islands  496-452-6181\n",
      "7       8  0e04AFde9f225dE      Brett       Mullen     Sanford, Davenport and Giles              Kimport                                      Bulgaria  001-583-3527\n",
      "8       9  C2dE4dEEc489ae0     Sheryl       Meyers                   Browning-Simon         Robersonstad                                        Cyprus  854-138-4911\n",
      "9      10  8C2811a503C7c5a   Michelle    Gallagher                     Beck-Hendrix           Elaineberg                                   Timor-Leste  739-218-2516\n",
      "10     11  216E205d6eBb815       Carl    Schroeder       Oconnell, Meza and Everett         Shannonville                                      Guernsey  637-854-0256\n",
      "11     12  CEDec94deE6d69B      Jenna       Dodson        Hoffman, Reed and Mcclain          East Andrea                                       Vietnam  041-737-3846\n",
      "12     13  e35426EbDEceaFF     Tracey         Mata                   Graham-Francis    South Joannamouth                                          Togo  001-949-8448\n",
      "13     14  A08A8aF8BE9FaD4   Kristine          Cox                   Carpenter-Cook             Jodyberg                                     Sri Lanka  786-284-3358\n",
      "14     15  6fEaA1b7cab7B6C      Faith         Lutz                   Carter-Hancock            Burchbury                                     Singapore  781-861-7180\n",
      "15     16  8cad0b4CBceaeec    Miranda      Beasley               Singleton and Sons         Desireeshire                                          Oman  540-085-3135\n",
      "16     17  a5DC21AE3a21eaA   Caroline        Foley                  Winters-Mendoza    West Adriennestad                                Western Sahara  936-222-4746\n",
      "17     18  F8Aa9d6DfcBeeF8       Greg         Mata                    Valentine LLC          Lake Leslie                                    Mozambique  701-087-2415\n",
      "18     19  F160f5Db3EfE973   Clifford     Jacobson                        Simon LLC           Harmonview  South Georgia and the South Sandwich Islands  001-151-3303\n",
      "19     20  0F60FF3DdCd7aB0     Joanna         Kirk                   Mays-Mccormick           Jamesshire                              French Polynesia  266-131-7001\n",
      "20     21  9F9AdB7B8A6f7F2    Maxwell         Frye                    Patterson Inc           East Carly                                         Malta  423-262-3059\n",
      "21     22  FBd0Ded4F02a742      Kiara      Houston       Manning, Hester and Arroyo          South Alvin                                   Netherlands  001-274-0403\n",
      "22     23  2FB0FAA1d429421    Colleen       Howard                   Greer and Sons         Brittanyview                                      Paraguay  193-508-5151\n",
      "23     24  010468dAA11382c      Janet   Valenzuela                  Watts-Donaldson        Veronicamouth              Lao People's Democratic Republic  354-259-5062\n",
      "24     25  eC1927Ca84E033e      Shane       Wilcox                       Tucker LLC           Bryanville                                       Albania  429-005-9030\n",
      "25     26  09D7D7C8Fe09aea     Marcus        Moody                        Giles Ltd          Kaitlyntown                                        Panama  674-677-8623\n",
      "26     27  aBdfcF2c50b0bfD     Dakota        Poole                    Simmons Group         Michealshire                                       Belarus  371-987-8576\n",
      "27     28  b92EBfdF8a3f0E6  Frederick       Harper        Hinton, Chaney and Stokes    South Marissatown                                   Switzerland  107-712-1155\n",
      "28     29  3B5dAAFA41AFa22   Stefanie  Fitzpatrick                    Santana-Duran         Acevedoville              Saint Vincent and the Grenadines  752-776-3286\n",
      "29     30  EDA69ca7a6e96a2       Kent     Bradshaw                       Sawyer PLC         North Harold                                      Tanzania  147-214-3503\n",
      "30     31  64DCcDFaB9DFd4e       Jack         Tate      Acosta, Petersen and Morrow          West Samuel                                      Zimbabwe  965-108-4406\n",
      "31     32  679c6c83DD872d6        Tom     Trujillo                      Mcgee Group    Cunninghamborough                                       Denmark  416-338-3758\n",
      "32     33  7Ce381e4Afa4ba9    Gabriel        Mejia                   Adkins-Salinas        Port Annatown                                 Liechtenstein  407-724-5425\n",
      "33     34  A09AEc6E3bF70eE    Kaitlyn      Santana                    Herrera Group          New Kaitlyn                      United States of America  630-364-3286\n",
      "34     35  aA9BAFfBc3710fe      Faith         Moon        Waters, Chase and Aguilar     West Marthaburgh                                       Bahamas  158-621-7035\n",
      "35     36  E11dfb2DB8C9f72     Tammie        Haley       Palmer, Barnes and Houston          East Teresa                                        Belize  001-276-7344\n",
      "36     37  889eCf90f68c5Da   Nicholas         Sosa                       Jordan Ltd         South Hunter                                       Uruguay  661-425-6042\n",
      "37     38  7a1Ee69F4fF4B4D     Jordan          Gay                  Glover and Sons         South Walter                               Solomon Islands  720-841-7020\n",
      "38     39  dca4f1D0A0fc5c9      Bruce      Esparza                    Huerta-Mclean            Poolefurt                                    Montenegro  559-529-4424\n",
      "39     40  17aD8e2dB3df03D     Sherry        Garza                     Anderson Ltd            West John                                        Poland  001-067-7136\n",
      "40     41  2f79Cd309624Abb    Natalie       Gentry                       Monroe PLC          West Darius                            Dominican Republic  830-996-8238\n",
      "41     42  6e5ad5a5e2bB5Ca      Bryan         Dunn                 Kaufman and Sons        North Jimstad                                  Burkina Faso  001-710-8025\n",
      "42     43  7E441b6B228DBcA      Wayne      Simpson                  Perkins-Trevino  East Rebekahborough                                       Bolivia  344-156-8632\n",
      "43     44  D3fC11A9C235Dc6       Luis        Greer                        Cross PLC           North Drew                                      Bulgaria  001-336-0256\n",
      "44     45  30Dfa48fe5Ede78     Rhonda        Frost  Herrera, Shepherd and Underwood      Lake Lindaburgh                                        Monaco  127-081-9339\n",
      "45     46  fD780ED8dbEae7B     Joanne       Montes       Price, Sexton and Mcdaniel        Gwendolynview                                         Palau  897-726-7952\n",
      "46     47  300A40d3ce24bBA   Geoffrey       Guzman                    Short-Wiggins        Zimmermanland                                    Uzbekistan  975-235-8921\n",
      "47     48  283DFCD0Dba40aF     Gloria       Mccall        Brennan, Acosta and Ramos       North Kerriton                                         Ghana  445-603-6729\n",
      "48     49  F4Fc91fEAEad286      Brady        Cohen                 Osborne-Erickson    North Eileenville                          United Arab Emirates  741-849-0139\n"
     ]
    }
   ],
   "source": [
    "import pandas as pd\n",
    "import numpy as np\n",
    "customers = pd.read_csv('customers.csv')\n",
    "customers['Phone 1'] = customers['Phone 1'].str.replace('.','', regex =False)\n",
    "customers['Phone 1'] = customers['Phone 1'].str.replace('-','', regex =False)\n",
    "customers['Phone 1'] = customers['Phone 1'].str.replace('+','', regex =False)\n",
    "customers['Phone 1'] = customers['Phone 1'].str.replace('x','', regex =False)\n",
    "customers['Phone 1'] = customers['Phone 1'].str.replace('(','', regex =False)\n",
    "customers['Phone 1'] = customers['Phone 1'].str.replace(')','', regex =False)\n",
    "customers['Phone 1'] = customers['Phone 1'].apply(lambda x: x[0:3] + '-' + x[3:6] + '-' + x[6:10])\n",
    "print(customers.to_string())"
   ]
  }
 ],
 "metadata": {
  "kernelspec": {
   "display_name": "Python 3",
   "language": "python",
   "name": "python3"
  },
  "language_info": {
   "codemirror_mode": {
    "name": "ipython",
    "version": 2
   },
   "file_extension": ".py",
   "mimetype": "text/x-python",
   "name": "python",
   "nbconvert_exporter": "python",
   "pygments_lexer": "ipython2",
   "version": "2.7.6"
  }
 },
 "nbformat": 4,
 "nbformat_minor": 5
}
